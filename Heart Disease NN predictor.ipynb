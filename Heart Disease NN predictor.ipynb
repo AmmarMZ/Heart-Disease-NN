{
 "cells": [
  {
   "cell_type": "code",
   "execution_count": 1,
   "metadata": {},
   "outputs": [],
   "source": [
    "import numpy as np\n",
    "import csv\n",
    "import torch\n",
    "import torch.nn as nn\n",
    "import torch.optim as optim\n",
    "import time\n",
    "import sys\n",
    "import torch.nn.functional as F\n"
   ]
  },
  {
   "cell_type": "code",
   "execution_count": 5,
   "metadata": {},
   "outputs": [],
   "source": [
    "# data taken from https://www.kaggle.com/ronitf/heart-disease-uci#heart.csv\n",
    "datafile = \"data/heart.csv\"\n",
    "\n",
    "data = np.zeros((303,14))\n",
    "\n",
    "# reading data from csv and putting into np array\n",
    "with open(datafile) as csvDataFile:\n",
    "    csvReader = csv.reader(csvDataFile)\n",
    "    i = 0\n",
    "    count = 0\n",
    "    for row in csvReader:\n",
    "        row = np.reshape(row,len(row),1)\n",
    "        if (count == 0):\n",
    "            count = -1\n",
    "            continue\n",
    "        else:\n",
    "            data[i,:] = row\n",
    "            i += 1\n",
    "\n",
    "# X.shape = 303 x 13\n",
    "Xt = data[:,0:13]\n",
    "\n",
    "# y.shape = 303 x 1\n",
    "yT = data[:,13]\n",
    "yT = yT.reshape(len(yT),1)\n",
    "\n",
    "combined = np.append(Xt, yT, axis = 1)\n",
    "np.random.shuffle(combined)\n",
    " \n",
    "# X and y have been randomized by the same factor\n",
    "X = combined[:,:13]\n",
    "y = combined[:,13]\n",
    "y = y.reshape(len(y),1)\n",
    "\n",
    "XOG = torch.tensor(Xt, dtype = torch.float)\n",
    "yOG = torch.tensor(yT, dtype = torch.float)\n",
    "\n",
    "\n",
    "y = torch.tensor(y, dtype = torch.float)\n",
    "X = torch.tensor(X, dtype = torch.float)\n",
    "\n",
    "XTrain = X[:212,:]\n",
    "XTest = X[212:,:]\n",
    "\n",
    "yTrain = y[:212,:]\n",
    "yTest = y[212:,:]\n",
    "\n",
    "# 303\n",
    "m = X.shape[0]\n",
    "mTest = XTest.shape[0]\n",
    "mTrain = XTrain.shape[0]\n",
    "\n",
    "#13\n",
    "n = X.shape[1]"
   ]
  },
  {
   "cell_type": "code",
   "execution_count": 14,
   "metadata": {},
   "outputs": [
    {
     "name": "stdout",
     "output_type": "stream",
     "text": [
      "Model()\n",
      "Iteration 0 Iteration 1 Iteration 2 Iteration 3 Iteration 4 Iteration 5 Iteration 6 Iteration 7 Iteration 8 Iteration 9 Iteration 10 Iteration 11 Iteration 12 Iteration 13 Iteration 14 Iteration 15 Iteration 16 Iteration 17 Iteration 18 Iteration 19 Iteration 20 Iteration 21 Iteration 22 Iteration 23 Iteration 24 Iteration 25 Iteration 26 Iteration 27 Iteration 28 Iteration 29 Training Completed- Total time is 0.013888 seconds\n"
     ]
    }
   ],
   "source": [
    "inputLayerSize = 13\n",
    "hiddenLayerSize1 = 7\n",
    "hiddenLayerSize2 = 7\n",
    "outputLayerSize = 1\n",
    "\n",
    "\n",
    "#device = torch.device('cpu')\n",
    "\n",
    "#model = torch.nn.Sequential(\n",
    "#        torch.nn.Linear(inputLayerSize, hiddenLayerSize1),\n",
    "#        torch.nn.ReLU(),\n",
    "#        torch.nn.Linear(hiddenLayerSize1, hiddenLayerSize2),\n",
    "#        torch.nn.ReLU(),\n",
    "#        torch.nn.Linear(hiddenLayerSize2, outputLayerSize)\n",
    "#).to(device)\n",
    "\n",
    "class Model(torch.nn.Module):\n",
    "    def __int__(self):\n",
    "        \n",
    "        super(Model,self).__init__()\n",
    "        self.hidden1 = nn.Linear(inputLayerSize,hiddenLayerSize1)\n",
    "        self.hidden2 = nn.Linear(hiddenLayerSize1, hiddenLayerSize2)\n",
    "        self.output = nn.Linear(hiddenLayerSize2, outputLayerSize)\n",
    "        \n",
    "    def forward(self, x):\n",
    "        a2 = F.sigmoid(self.hidden1(x))\n",
    "        a3 = F.sigmoid(a2)\n",
    "        output = self.output(a3)\n",
    "        return output\n",
    "\n",
    "    \n",
    "model = Model()\n",
    "model.parameters()\n",
    "print(model)\n",
    "\n",
    "\n",
    "#lossFunc = torch.nn.MSELoss(reduction = 'sum')\n",
    "#optimizer = optim.Adam(model.parameters(), lr = 0.001)\n",
    "\n",
    "def train():\n",
    "    for i in range(m):\n",
    "        yPred = model(X[i])\n",
    "        loss = lossFunc(yPred, y[i])\n",
    "                      \n",
    "        optimizer.zero_grad()\n",
    "        loss.backward()\n",
    "        optimizer.step()\n",
    "\n",
    "                                            \n",
    "        if (i == mTrain - 1):\n",
    "            print(\"Loss value: \" + str(loss.item()))\n",
    "\n",
    "start = time.time()\n",
    "for i in range(30):\n",
    "    sys.stdout.write(\"Iteration %d \"%i)\n",
    "    sys.stdout.flush()\n",
    "    #train()\n",
    "end = time.time()\n",
    "print(\"Training Completed- Total time is %f seconds\" %(end-start))\n"
   ]
  },
  {
   "cell_type": "code",
   "execution_count": 180,
   "metadata": {},
   "outputs": [
    {
     "name": "stdout",
     "output_type": "stream",
     "text": [
      "15.181518151815181\n"
     ]
    }
   ],
   "source": [
    "count = 0\n",
    "\n",
    "for i in range(mTest):\n",
    "    val = model(xTest[i])\n",
    "    #print(str(val.item()) + \" \" + str(y[i].item()))\n",
    "    if (abs(yTest[i].item() - val.item()) <= 0.5):\n",
    "        count += 1\n",
    "        \n",
    "print(count/m * 100)"
   ]
  },
  {
   "cell_type": "code",
   "execution_count": null,
   "metadata": {},
   "outputs": [],
   "source": []
  }
 ],
 "metadata": {
  "kernelspec": {
   "display_name": "Python 3",
   "language": "python",
   "name": "python3"
  },
  "language_info": {
   "codemirror_mode": {
    "name": "ipython",
    "version": 3
   },
   "file_extension": ".py",
   "mimetype": "text/x-python",
   "name": "python",
   "nbconvert_exporter": "python",
   "pygments_lexer": "ipython3",
   "version": "3.7.1"
  }
 },
 "nbformat": 4,
 "nbformat_minor": 2
}
