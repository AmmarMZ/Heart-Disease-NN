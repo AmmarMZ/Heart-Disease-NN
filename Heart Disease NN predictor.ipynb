{
 "cells": [
  {
   "cell_type": "code",
   "execution_count": 3,
   "metadata": {},
   "outputs": [],
   "source": [
    "import numpy as np\n",
    "import csv\n",
    "import torch\n",
    "import torch.nn as nn\n",
    "import torch.optim as optim\n",
    "import time\n",
    "import sys\n",
    "import torch.nn.functional as F\n",
    "from torch.autograd import Variable\n",
    "\n"
   ]
  },
  {
   "cell_type": "code",
   "execution_count": 49,
   "metadata": {},
   "outputs": [
    {
     "name": "stdout",
     "output_type": "stream",
     "text": [
      "91\n"
     ]
    }
   ],
   "source": [
    "# data taken from https://www.kaggle.com/ronitf/heart-disease-uci#heart.csv\n",
    "datafile = \"data/heart.csv\"\n",
    "\n",
    "data = np.zeros((303,14))\n",
    "\n",
    "# reading data from csv and putting into np array\n",
    "with open(datafile) as csvDataFile:\n",
    "    csvReader = csv.reader(csvDataFile)\n",
    "    i = 0\n",
    "    count = 0\n",
    "    for row in csvReader:\n",
    "        row = np.reshape(row,len(row),1)\n",
    "        if (count == 0):\n",
    "            count = -1\n",
    "            continue\n",
    "        else:\n",
    "            data[i,:] = row\n",
    "            i += 1\n",
    "\n",
    "# X.shape = 303 x 13\n",
    "Xt = data[:,0:13]\n",
    "\n",
    "# y.shape = 303 x 1\n",
    "yT = data[:,13]\n",
    "yT = yT.reshape(len(yT),1)\n",
    "\n",
    "combined = np.append(Xt, yT, axis = 1)\n",
    "np.random.shuffle(combined)\n",
    " \n",
    "# X and y have been randomized by the same factor\n",
    "X = combined[:,:13]\n",
    "y = combined[:,13]\n",
    "y = y.reshape(len(y),1)\n",
    "\n",
    "XOG = torch.tensor(Xt, dtype = torch.float)\n",
    "yOG = torch.tensor(yT, dtype = torch.float)\n",
    "\n",
    "X = torch.tensor(X, dtype = torch.float)\n",
    "X = Variable(X, requires_grad = False)\n",
    "\n",
    "y = torch.tensor(y, dtype = torch.float)\n",
    "y = Variable(y, requires_grad = False)\n",
    "\n",
    "XTrain = X[:212,:]\n",
    "XTrain = Variable(XTrain, requires_grad = False)\n",
    "\n",
    "XTest = X[212:,:]\n",
    "XTest = Variable(XTest, requires_grad = False)\n",
    "\n",
    "\n",
    "yTrain = y[:212,:]\n",
    "yTrain = Variable(yTrain, requires_grad = False)\n",
    "\n",
    "yTest = y[212:,:]\n",
    "yTest = Variable(yTest, requires_grad = False)\n",
    "\n",
    "\n",
    "# 303\n",
    "m = X.shape[0]\n",
    "mTest = XTest.shape[0]\n",
    "mTrain = XTrain.shape[0]\n",
    "\n",
    "#13\n",
    "n = X.shape[1]"
   ]
  },
  {
   "cell_type": "code",
   "execution_count": 43,
   "metadata": {},
   "outputs": [
    {
     "name": "stdout",
     "output_type": "stream",
     "text": [
      "Iteration 0: Loss value: 0.6903038620948792\n",
      "Iteration 20: Loss value: 0.6826479434967041\n",
      "Iteration 40: Loss value: 0.6610010266304016\n",
      "Iteration 60: Loss value: 0.603117823600769\n",
      "Iteration 80: Loss value: 0.5156987309455872\n",
      "Iteration 100: Loss value: 0.41493669152259827\n",
      "Iteration 120: Loss value: 0.3655591607093811\n",
      "Iteration 140: Loss value: 0.33838364481925964\n",
      "Iteration 160: Loss value: 0.33161288499832153\n",
      "Iteration 180: Loss value: 0.3247848153114319\n",
      "Iteration 200: Loss value: 0.31743013858795166\n",
      "Iteration 220: Loss value: 0.3135477602481842\n",
      "Iteration 240: Loss value: 0.3106653392314911\n",
      "Iteration 260: Loss value: 0.31021955609321594\n",
      "Iteration 280: Loss value: 0.30714502930641174\n",
      "Iteration 300: Loss value: 0.30404943227767944\n",
      "Iteration 320: Loss value: 0.299405038356781\n",
      "Iteration 340: Loss value: 0.298053503036499\n",
      "Iteration 360: Loss value: 0.2950461804866791\n",
      "Iteration 380: Loss value: 0.3036298155784607\n",
      "Iteration 400: Loss value: 0.28889042139053345\n",
      "Iteration 420: Loss value: 0.2862839698791504\n",
      "Iteration 440: Loss value: 0.29026859998703003\n",
      "Iteration 460: Loss value: 0.2818768322467804\n",
      "Iteration 480: Loss value: 0.2799678444862366\n",
      "Training Completed- Total time is 0.384885 seconds\n"
     ]
    }
   ],
   "source": [
    "inputLayerSize = 13\n",
    "hiddenLayerSize1 = 7\n",
    "hiddenLayerSize2 = 7\n",
    "outputLayerSize = 1\n",
    "\n",
    "\n",
    "\n",
    "model = torch.nn.Sequential(\n",
    "        torch.nn.Linear(inputLayerSize, hiddenLayerSize1),\n",
    "        torch.nn.Sigmoid(),\n",
    "        torch.nn.Linear(hiddenLayerSize1, hiddenLayerSize2),\n",
    "        torch.nn.Sigmoid(),\n",
    "        torch.nn.Linear(hiddenLayerSize2, outputLayerSize),\n",
    "        torch.nn.Sigmoid())\n",
    "\n",
    "model.parameters()\n",
    "\n",
    "lossFunc = torch.nn.BCELoss()\n",
    "learnRate = 0.009\n",
    "optimizer = torch.optim.Adam(model.parameters(), lr=learnRate)\n",
    "\n",
    "def train():\n",
    "    for i in range(500):\n",
    "        \n",
    "        optimizer.zero_grad()\n",
    "        yPred = model(XTrain)\n",
    "        loss = lossFunc(yPred, yTrain)            \n",
    "        loss.backward()\n",
    "        optimizer.step()\n",
    "                                   \n",
    "        if (i % 20 == 0):\n",
    "            print(\"Iteration \" + str(i) + \": \" + \"Loss value: \" + str(loss.item()))\n",
    "            \n",
    "\n",
    "start = time.time()\n",
    "train()\n",
    "end = time.time()\n",
    "model.eval()\n",
    "print(\"Training Completed- Total time is %f seconds\" %(end-start))\n"
   ]
  },
  {
   "cell_type": "code",
   "execution_count": 53,
   "metadata": {},
   "outputs": [
    {
     "name": "stdout",
     "output_type": "stream",
     "text": [
      "94.5054945054945\n"
     ]
    }
   ],
   "source": [
    "count = 0\n",
    "actVal = 2\n",
    "for i in range(mTest):\n",
    "    value = model(XTest[i])\n",
    "    #print(\"Expected is: \" + str(value.item()) + \" Actual is: \" + str(yTest[i].item()))\n",
    "    if (value.item() >= 0.5):\n",
    "        actVal = 1\n",
    "    else:\n",
    "        actVal = 0\n",
    "    \n",
    "    if (actVal == yTest[i].item()):\n",
    "        count += 1\n",
    "        \n",
    "print(count/mTest * 100)"
   ]
  },
  {
   "cell_type": "code",
   "execution_count": null,
   "metadata": {},
   "outputs": [],
   "source": []
  }
 ],
 "metadata": {
  "kernelspec": {
   "display_name": "Python 3",
   "language": "python",
   "name": "python3"
  },
  "language_info": {
   "codemirror_mode": {
    "name": "ipython",
    "version": 3
   },
   "file_extension": ".py",
   "mimetype": "text/x-python",
   "name": "python",
   "nbconvert_exporter": "python",
   "pygments_lexer": "ipython3",
   "version": "3.7.1"
  }
 },
 "nbformat": 4,
 "nbformat_minor": 2
}
