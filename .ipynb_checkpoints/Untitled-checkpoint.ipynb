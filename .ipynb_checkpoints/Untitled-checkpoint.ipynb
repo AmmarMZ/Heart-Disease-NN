{
 "cells": [
  {
   "cell_type": "code",
   "execution_count": 1,
   "metadata": {},
   "outputs": [],
   "source": [
    "%matplotlib inline\n",
    "import numpy as np\n",
    "import matplotlib.pyplot as plt\n",
    "import pandas as pd\n",
    "import scipy.io #Used to load the OCTAVE *.mat files\n",
    "import scipy.misc #Used to show matrix as an image\n",
    "import matplotlib.cm as cm #Used to display images in a specific colormap\n",
    "import random #To pick random images to display\n",
    "import scipy.optimize #fmin_cg to train neural network\n",
    "import itertools\n",
    "from scipy.special import expit #Vectorized sigmoid function\n",
    "import csv"
   ]
  },
  {
   "cell_type": "code",
   "execution_count": 67,
   "metadata": {},
   "outputs": [],
   "source": [
    "datafile = \"data/heart.csv\"\n",
    "\n",
    "data = np.zeros((303,14))\n",
    "\n",
    "# reading data from csv and putting into np array\n",
    "with open(datafile) as csvDataFile:\n",
    "    csvReader = csv.reader(csvDataFile)\n",
    "    i = 0\n",
    "    count = 0\n",
    "    for row in csvReader:\n",
    "        row = np.reshape(row,len(row),1)\n",
    "        if (count == 0):\n",
    "            count = -1\n",
    "            continue\n",
    "        else:\n",
    "            data[i,:] = row\n",
    "            i += 1\n",
    "\n",
    "# X.shape = 303 x 13\n",
    "X = data[:,0:13]\n",
    "\n",
    "# y.shape = 303 x 1\n",
    "y = data[:,13]\n",
    "y = y.reshape(len(y),1)\n",
    "\n"
   ]
  },
  {
   "cell_type": "code",
   "execution_count": null,
   "metadata": {},
   "outputs": [],
   "source": []
  }
 ],
 "metadata": {
  "kernelspec": {
   "display_name": "Python 3",
   "language": "python",
   "name": "python3"
  },
  "language_info": {
   "codemirror_mode": {
    "name": "ipython",
    "version": 3
   },
   "file_extension": ".py",
   "mimetype": "text/x-python",
   "name": "python",
   "nbconvert_exporter": "python",
   "pygments_lexer": "ipython3",
   "version": "3.7.1"
  }
 },
 "nbformat": 4,
 "nbformat_minor": 2
}
